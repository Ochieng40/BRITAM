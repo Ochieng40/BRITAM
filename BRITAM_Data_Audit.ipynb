{
  "nbformat": 4,
  "nbformat_minor": 0,
  "metadata": {
    "colab": {
      "provenance": [],
      "authorship_tag": "ABX9TyMqGEGGvAvjPNsFOdqvNpZj",
      "include_colab_link": true
    },
    "kernelspec": {
      "name": "python3",
      "display_name": "Python 3"
    },
    "language_info": {
      "name": "python"
    }
  },
  "cells": [
    {
      "cell_type": "markdown",
      "metadata": {
        "id": "view-in-github",
        "colab_type": "text"
      },
      "source": [
        "<a href=\"https://colab.research.google.com/github/Ochieng40/BRITAM/blob/main/BRITAM_Data_Audit.ipynb\" target=\"_parent\"><img src=\"https://colab.research.google.com/assets/colab-badge.svg\" alt=\"Open In Colab\"/></a>"
      ]
    },
    {
      "cell_type": "code",
      "execution_count": 16,
      "metadata": {
        "id": "HxIavDD_Js1B"
      },
      "outputs": [],
      "source": [
        "import pandas as pd\n",
        "import numpy as np\n",
        "from tabulate import tabulate"
      ]
    },
    {
      "cell_type": "code",
      "source": [
        "# Connect to GDrive\n",
        "from google.colab import auth\n",
        "auth.authenticate_user()\n",
        "\n",
        "import gspread\n",
        "from google.auth import default\n",
        "\n",
        "creds, _ = default()\n",
        "\n",
        "gc = gspread.authorize(creds)"
      ],
      "metadata": {
        "id": "n0DhxYOJKhug"
      },
      "execution_count": 2,
      "outputs": []
    },
    {
      "cell_type": "markdown",
      "source": [
        "## Import BRITAM Data"
      ],
      "metadata": {
        "id": "BT1GxajBKEbU"
      }
    },
    {
      "cell_type": "code",
      "source": [
        "# CHV Google sheet link\n",
        "sheet_url = 'https://docs.google.com/spreadsheets/d/1pp1NWao6trnqszJ55EXvI5oQIkwnxDYImOtS85g_GDI/edit#gid=0'"
      ],
      "metadata": {
        "id": "zkwnjODxJ4Gd"
      },
      "execution_count": 3,
      "outputs": []
    },
    {
      "cell_type": "code",
      "source": [
        "# Read in CHV data from google drive\n",
        "spreadsheet = gc.open_by_url(sheet_url)\n",
        "\n",
        "# List all worksheets\n",
        "spreadsheet.worksheets()"
      ],
      "metadata": {
        "colab": {
          "base_uri": "https://localhost:8080/"
        },
        "id": "xUfb5SEgKUiL",
        "outputId": "9f163ac8-6c09-44a1-e398-e14a7c93a634"
      },
      "execution_count": 4,
      "outputs": [
        {
          "output_type": "execute_result",
          "data": {
            "text/plain": [
              "[<Worksheet 'Britam Regions ' id:1226177549>,\n",
              " <Worksheet 'Claim Database' id:109733782>,\n",
              " <Worksheet 'Britam Outcome' id:453183433>,\n",
              " <Worksheet 'QC' id:2042219390>,\n",
              " <Worksheet 'Claim Data' id:289568147>,\n",
              " <Worksheet 'Outcome Indicator Outcome' id:266898122>,\n",
              " <Worksheet 'Final  feedback' id:2003645140>,\n",
              " <Worksheet 'KMFL' id:875767946>,\n",
              " <Worksheet 'Sample Data' id:593894702>,\n",
              " <Worksheet 'Proposed Indicators ' id:2062797799>,\n",
              " <Worksheet 'KHIS Official Names' id:2144467371>,\n",
              " <Worksheet 'Feedback Round1' id:518783794>,\n",
              " <Worksheet 'Round2 Feedback' id:75704305>,\n",
              " <Worksheet 'Britam Feedback ' id:1405593289>]"
            ]
          },
          "metadata": {},
          "execution_count": 4
        }
      ]
    },
    {
      "cell_type": "code",
      "source": [
        "# Access worksheet\n",
        "Britam_regions = spreadsheet.worksheet('Britam Regions ')\n",
        "Claim_database = spreadsheet.worksheet('Claim Database')\n",
        "Britam_outcome = spreadsheet.worksheet('Britam Outcome')\n"
      ],
      "metadata": {
        "id": "EkxYzf4cKyTx"
      },
      "execution_count": 5,
      "outputs": []
    },
    {
      "cell_type": "code",
      "source": [
        "Britam_regions = pd.DataFrame(\n",
        "    Britam_regions.get_all_records(expected_headers=['Number', 'Health Facility', 'MFL Code', 'KHIS Official Names'])\n",
        ")\n",
        "\n",
        "Claim_database = pd.DataFrame(\n",
        "    Claim_database.get_all_records(\n",
        "        expected_headers=[\n",
        "            'PAYEE_NAME', 'EVENT_DATE', 'PATIENT_CARDNO', 'BIRTH_DATE',\n",
        "            'DIAG GROUP NAME', 'DIAGNOSIS_CODE', 'DIAGNOSIS_NAME',\n",
        "            'INVOICE_ID', 'CONFIRMED_AMOUNT', 'COVER_TYPE', 'Facility Code'\n",
        "        ]\n",
        "    )\n",
        ")\n",
        "\n",
        "\n",
        "Britam_outcome = pd.DataFrame(\n",
        "    Britam_outcome.get_all_records(\n",
        "        expected_headers=[\n",
        "            'Hospital name', 'Client date of birth', 'Please indicate number of days admitted',\n",
        "            'Indicate mode of delivery', 'Please indicate the neonatal birth outcome',\n",
        "            'Please indicate if induction of labor was done', 'Please indicate the duration of labor',\n",
        "            'Please indicate if Episiotomy was done', 'Please indicate if there was perenial tears',\n",
        "            'Please indicate the reason Caesarean Section was done',\n",
        "            'Was there a Delivery/ Post Partum complication',\n",
        "            'Indicate the Delivery and/or Post Partum Complication', 'Facility Code'\n",
        "        ]\n",
        "    )\n",
        ")\n"
      ],
      "metadata": {
        "id": "y1qV1A2jusBH"
      },
      "execution_count": 6,
      "outputs": []
    },
    {
      "cell_type": "code",
      "source": [
        "Britam_regions.head(3)"
      ],
      "metadata": {
        "colab": {
          "base_uri": "https://localhost:8080/",
          "height": 195
        },
        "id": "97NHPg9-vKkZ",
        "outputId": "06cfc921-b286-462b-d043-516189c693e6"
      },
      "execution_count": 7,
      "outputs": [
        {
          "output_type": "execute_result",
          "data": {
            "text/plain": [
              "   Number                 Health Facility  MFL Code  \\\n",
              "0       1  Dr Wachira Health Services Ltd     10154   \n",
              "1       2     Bristol Park Hospital Fedha     24587   \n",
              "2       3        Juja Road Hospital Ruiru     30404   \n",
              "\n",
              "           KHIS Official Names                      PAYEE_NAME    \\\n",
              "0            Vineyard Hospital           Bristol Park Hospital     \n",
              "1  Bristol Park Hospital Fedha  Dr Wachira Health Services Ltd     \n",
              "2           Juja Road Hospital             Equity Afia Limited     \n",
              "\n",
              "                    Facility Name Facility code  \\\n",
              "0           Bristol Park Hospital         24587   \n",
              "1  Dr Wachira Health Services Ltd         10154   \n",
              "2             Equity Afia Limited         26257   \n",
              "\n",
              "            Bristol Park Hospital  24587  \n",
              "0  Dr Wachira Health Services Ltd  10154  \n",
              "1            Jacaranda Health Ltd  20403  \n",
              "2              Juja Road Hospital  30404  "
            ],
            "text/html": [
              "\n",
              "  <div id=\"df-19242753-830f-45e0-9183-33b970e4b18d\" class=\"colab-df-container\">\n",
              "    <div>\n",
              "<style scoped>\n",
              "    .dataframe tbody tr th:only-of-type {\n",
              "        vertical-align: middle;\n",
              "    }\n",
              "\n",
              "    .dataframe tbody tr th {\n",
              "        vertical-align: top;\n",
              "    }\n",
              "\n",
              "    .dataframe thead th {\n",
              "        text-align: right;\n",
              "    }\n",
              "</style>\n",
              "<table border=\"1\" class=\"dataframe\">\n",
              "  <thead>\n",
              "    <tr style=\"text-align: right;\">\n",
              "      <th></th>\n",
              "      <th>Number</th>\n",
              "      <th>Health Facility</th>\n",
              "      <th>MFL Code</th>\n",
              "      <th>KHIS Official Names</th>\n",
              "      <th>PAYEE_NAME</th>\n",
              "      <th></th>\n",
              "      <th>Facility Name</th>\n",
              "      <th>Facility code</th>\n",
              "      <th>Bristol Park Hospital</th>\n",
              "      <th>24587</th>\n",
              "    </tr>\n",
              "  </thead>\n",
              "  <tbody>\n",
              "    <tr>\n",
              "      <th>0</th>\n",
              "      <td>1</td>\n",
              "      <td>Dr Wachira Health Services Ltd</td>\n",
              "      <td>10154</td>\n",
              "      <td>Vineyard Hospital</td>\n",
              "      <td>Bristol Park Hospital</td>\n",
              "      <td></td>\n",
              "      <td>Bristol Park Hospital</td>\n",
              "      <td>24587</td>\n",
              "      <td>Dr Wachira Health Services Ltd</td>\n",
              "      <td>10154</td>\n",
              "    </tr>\n",
              "    <tr>\n",
              "      <th>1</th>\n",
              "      <td>2</td>\n",
              "      <td>Bristol Park Hospital Fedha</td>\n",
              "      <td>24587</td>\n",
              "      <td>Bristol Park Hospital Fedha</td>\n",
              "      <td>Dr Wachira Health Services Ltd</td>\n",
              "      <td></td>\n",
              "      <td>Dr Wachira Health Services Ltd</td>\n",
              "      <td>10154</td>\n",
              "      <td>Jacaranda Health Ltd</td>\n",
              "      <td>20403</td>\n",
              "    </tr>\n",
              "    <tr>\n",
              "      <th>2</th>\n",
              "      <td>3</td>\n",
              "      <td>Juja Road Hospital Ruiru</td>\n",
              "      <td>30404</td>\n",
              "      <td>Juja Road Hospital</td>\n",
              "      <td>Equity Afia Limited</td>\n",
              "      <td></td>\n",
              "      <td>Equity Afia Limited</td>\n",
              "      <td>26257</td>\n",
              "      <td>Juja Road Hospital</td>\n",
              "      <td>30404</td>\n",
              "    </tr>\n",
              "  </tbody>\n",
              "</table>\n",
              "</div>\n",
              "    <div class=\"colab-df-buttons\">\n",
              "\n",
              "  <div class=\"colab-df-container\">\n",
              "    <button class=\"colab-df-convert\" onclick=\"convertToInteractive('df-19242753-830f-45e0-9183-33b970e4b18d')\"\n",
              "            title=\"Convert this dataframe to an interactive table.\"\n",
              "            style=\"display:none;\">\n",
              "\n",
              "  <svg xmlns=\"http://www.w3.org/2000/svg\" height=\"24px\" viewBox=\"0 -960 960 960\">\n",
              "    <path d=\"M120-120v-720h720v720H120Zm60-500h600v-160H180v160Zm220 220h160v-160H400v160Zm0 220h160v-160H400v160ZM180-400h160v-160H180v160Zm440 0h160v-160H620v160ZM180-180h160v-160H180v160Zm440 0h160v-160H620v160Z\"/>\n",
              "  </svg>\n",
              "    </button>\n",
              "\n",
              "  <style>\n",
              "    .colab-df-container {\n",
              "      display:flex;\n",
              "      gap: 12px;\n",
              "    }\n",
              "\n",
              "    .colab-df-convert {\n",
              "      background-color: #E8F0FE;\n",
              "      border: none;\n",
              "      border-radius: 50%;\n",
              "      cursor: pointer;\n",
              "      display: none;\n",
              "      fill: #1967D2;\n",
              "      height: 32px;\n",
              "      padding: 0 0 0 0;\n",
              "      width: 32px;\n",
              "    }\n",
              "\n",
              "    .colab-df-convert:hover {\n",
              "      background-color: #E2EBFA;\n",
              "      box-shadow: 0px 1px 2px rgba(60, 64, 67, 0.3), 0px 1px 3px 1px rgba(60, 64, 67, 0.15);\n",
              "      fill: #174EA6;\n",
              "    }\n",
              "\n",
              "    .colab-df-buttons div {\n",
              "      margin-bottom: 4px;\n",
              "    }\n",
              "\n",
              "    [theme=dark] .colab-df-convert {\n",
              "      background-color: #3B4455;\n",
              "      fill: #D2E3FC;\n",
              "    }\n",
              "\n",
              "    [theme=dark] .colab-df-convert:hover {\n",
              "      background-color: #434B5C;\n",
              "      box-shadow: 0px 1px 3px 1px rgba(0, 0, 0, 0.15);\n",
              "      filter: drop-shadow(0px 1px 2px rgba(0, 0, 0, 0.3));\n",
              "      fill: #FFFFFF;\n",
              "    }\n",
              "  </style>\n",
              "\n",
              "    <script>\n",
              "      const buttonEl =\n",
              "        document.querySelector('#df-19242753-830f-45e0-9183-33b970e4b18d button.colab-df-convert');\n",
              "      buttonEl.style.display =\n",
              "        google.colab.kernel.accessAllowed ? 'block' : 'none';\n",
              "\n",
              "      async function convertToInteractive(key) {\n",
              "        const element = document.querySelector('#df-19242753-830f-45e0-9183-33b970e4b18d');\n",
              "        const dataTable =\n",
              "          await google.colab.kernel.invokeFunction('convertToInteractive',\n",
              "                                                    [key], {});\n",
              "        if (!dataTable) return;\n",
              "\n",
              "        const docLinkHtml = 'Like what you see? Visit the ' +\n",
              "          '<a target=\"_blank\" href=https://colab.research.google.com/notebooks/data_table.ipynb>data table notebook</a>'\n",
              "          + ' to learn more about interactive tables.';\n",
              "        element.innerHTML = '';\n",
              "        dataTable['output_type'] = 'display_data';\n",
              "        await google.colab.output.renderOutput(dataTable, element);\n",
              "        const docLink = document.createElement('div');\n",
              "        docLink.innerHTML = docLinkHtml;\n",
              "        element.appendChild(docLink);\n",
              "      }\n",
              "    </script>\n",
              "  </div>\n",
              "\n",
              "\n",
              "<div id=\"df-6f46eb3d-3934-4183-b516-4b4f153657e3\">\n",
              "  <button class=\"colab-df-quickchart\" onclick=\"quickchart('df-6f46eb3d-3934-4183-b516-4b4f153657e3')\"\n",
              "            title=\"Suggest charts\"\n",
              "            style=\"display:none;\">\n",
              "\n",
              "<svg xmlns=\"http://www.w3.org/2000/svg\" height=\"24px\"viewBox=\"0 0 24 24\"\n",
              "     width=\"24px\">\n",
              "    <g>\n",
              "        <path d=\"M19 3H5c-1.1 0-2 .9-2 2v14c0 1.1.9 2 2 2h14c1.1 0 2-.9 2-2V5c0-1.1-.9-2-2-2zM9 17H7v-7h2v7zm4 0h-2V7h2v10zm4 0h-2v-4h2v4z\"/>\n",
              "    </g>\n",
              "</svg>\n",
              "  </button>\n",
              "\n",
              "<style>\n",
              "  .colab-df-quickchart {\n",
              "      --bg-color: #E8F0FE;\n",
              "      --fill-color: #1967D2;\n",
              "      --hover-bg-color: #E2EBFA;\n",
              "      --hover-fill-color: #174EA6;\n",
              "      --disabled-fill-color: #AAA;\n",
              "      --disabled-bg-color: #DDD;\n",
              "  }\n",
              "\n",
              "  [theme=dark] .colab-df-quickchart {\n",
              "      --bg-color: #3B4455;\n",
              "      --fill-color: #D2E3FC;\n",
              "      --hover-bg-color: #434B5C;\n",
              "      --hover-fill-color: #FFFFFF;\n",
              "      --disabled-bg-color: #3B4455;\n",
              "      --disabled-fill-color: #666;\n",
              "  }\n",
              "\n",
              "  .colab-df-quickchart {\n",
              "    background-color: var(--bg-color);\n",
              "    border: none;\n",
              "    border-radius: 50%;\n",
              "    cursor: pointer;\n",
              "    display: none;\n",
              "    fill: var(--fill-color);\n",
              "    height: 32px;\n",
              "    padding: 0;\n",
              "    width: 32px;\n",
              "  }\n",
              "\n",
              "  .colab-df-quickchart:hover {\n",
              "    background-color: var(--hover-bg-color);\n",
              "    box-shadow: 0 1px 2px rgba(60, 64, 67, 0.3), 0 1px 3px 1px rgba(60, 64, 67, 0.15);\n",
              "    fill: var(--button-hover-fill-color);\n",
              "  }\n",
              "\n",
              "  .colab-df-quickchart-complete:disabled,\n",
              "  .colab-df-quickchart-complete:disabled:hover {\n",
              "    background-color: var(--disabled-bg-color);\n",
              "    fill: var(--disabled-fill-color);\n",
              "    box-shadow: none;\n",
              "  }\n",
              "\n",
              "  .colab-df-spinner {\n",
              "    border: 2px solid var(--fill-color);\n",
              "    border-color: transparent;\n",
              "    border-bottom-color: var(--fill-color);\n",
              "    animation:\n",
              "      spin 1s steps(1) infinite;\n",
              "  }\n",
              "\n",
              "  @keyframes spin {\n",
              "    0% {\n",
              "      border-color: transparent;\n",
              "      border-bottom-color: var(--fill-color);\n",
              "      border-left-color: var(--fill-color);\n",
              "    }\n",
              "    20% {\n",
              "      border-color: transparent;\n",
              "      border-left-color: var(--fill-color);\n",
              "      border-top-color: var(--fill-color);\n",
              "    }\n",
              "    30% {\n",
              "      border-color: transparent;\n",
              "      border-left-color: var(--fill-color);\n",
              "      border-top-color: var(--fill-color);\n",
              "      border-right-color: var(--fill-color);\n",
              "    }\n",
              "    40% {\n",
              "      border-color: transparent;\n",
              "      border-right-color: var(--fill-color);\n",
              "      border-top-color: var(--fill-color);\n",
              "    }\n",
              "    60% {\n",
              "      border-color: transparent;\n",
              "      border-right-color: var(--fill-color);\n",
              "    }\n",
              "    80% {\n",
              "      border-color: transparent;\n",
              "      border-right-color: var(--fill-color);\n",
              "      border-bottom-color: var(--fill-color);\n",
              "    }\n",
              "    90% {\n",
              "      border-color: transparent;\n",
              "      border-bottom-color: var(--fill-color);\n",
              "    }\n",
              "  }\n",
              "</style>\n",
              "\n",
              "  <script>\n",
              "    async function quickchart(key) {\n",
              "      const quickchartButtonEl =\n",
              "        document.querySelector('#' + key + ' button');\n",
              "      quickchartButtonEl.disabled = true;  // To prevent multiple clicks.\n",
              "      quickchartButtonEl.classList.add('colab-df-spinner');\n",
              "      try {\n",
              "        const charts = await google.colab.kernel.invokeFunction(\n",
              "            'suggestCharts', [key], {});\n",
              "      } catch (error) {\n",
              "        console.error('Error during call to suggestCharts:', error);\n",
              "      }\n",
              "      quickchartButtonEl.classList.remove('colab-df-spinner');\n",
              "      quickchartButtonEl.classList.add('colab-df-quickchart-complete');\n",
              "    }\n",
              "    (() => {\n",
              "      let quickchartButtonEl =\n",
              "        document.querySelector('#df-6f46eb3d-3934-4183-b516-4b4f153657e3 button');\n",
              "      quickchartButtonEl.style.display =\n",
              "        google.colab.kernel.accessAllowed ? 'block' : 'none';\n",
              "    })();\n",
              "  </script>\n",
              "</div>\n",
              "\n",
              "    </div>\n",
              "  </div>\n"
            ],
            "application/vnd.google.colaboratory.intrinsic+json": {
              "type": "dataframe",
              "variable_name": "Britam_regions",
              "summary": "{\n  \"name\": \"Britam_regions\",\n  \"rows\": 32,\n  \"fields\": [\n    {\n      \"column\": \"Number\",\n      \"properties\": {\n        \"dtype\": \"number\",\n        \"std\": 9,\n        \"min\": 1,\n        \"max\": 32,\n        \"num_unique_values\": 32,\n        \"samples\": [\n          30,\n          16,\n          25\n        ],\n        \"semantic_type\": \"\",\n        \"description\": \"\"\n      }\n    },\n    {\n      \"column\": \"Health Facility\",\n      \"properties\": {\n        \"dtype\": \"string\",\n        \"num_unique_values\": 32,\n        \"samples\": [\n          \"Mary Help of the Sick Hospital\",\n          \"Ruai Family Hospital Jacaranda\",\n          \"St. Bridget Hospital\"\n        ],\n        \"semantic_type\": \"\",\n        \"description\": \"\"\n      }\n    },\n    {\n      \"column\": \"MFL Code\",\n      \"properties\": {\n        \"dtype\": \"number\",\n        \"std\": 7050,\n        \"min\": 10154,\n        \"max\": 32208,\n        \"num_unique_values\": 30,\n        \"samples\": [\n          23492,\n          32208,\n          19963\n        ],\n        \"semantic_type\": \"\",\n        \"description\": \"\"\n      }\n    },\n    {\n      \"column\": \"KHIS Official Names\",\n      \"properties\": {\n        \"dtype\": \"string\",\n        \"num_unique_values\": 30,\n        \"samples\": [\n          \"King David Hospital\",\n          \"RFH Health Care Limited Jacaranda Medical Centre\",\n          \"Holy family Catholic Hospital (Githunguri)\"\n        ],\n        \"semantic_type\": \"\",\n        \"description\": \"\"\n      }\n    },\n    {\n      \"column\": \"PAYEE_NAME\",\n      \"properties\": {\n        \"dtype\": \"category\",\n        \"num_unique_values\": 10,\n        \"samples\": [\n          \"Grand Total\",\n          \"Dr Wachira Health Services Ltd\",\n          \"Ruai Family Hospital\"\n        ],\n        \"semantic_type\": \"\",\n        \"description\": \"\"\n      }\n    },\n    {\n      \"column\": \"\",\n      \"properties\": {\n        \"dtype\": \"object\",\n        \"num_unique_values\": 1,\n        \"samples\": [\n          \"\"\n        ],\n        \"semantic_type\": \"\",\n        \"description\": \"\"\n      }\n    },\n    {\n      \"column\": \"Facility Name\",\n      \"properties\": {\n        \"dtype\": \"category\",\n        \"num_unique_values\": 9,\n        \"samples\": [\n          \"Sinai Hospital\"\n        ],\n        \"semantic_type\": \"\",\n        \"description\": \"\"\n      }\n    },\n    {\n      \"column\": \"Facility code\",\n      \"properties\": {\n        \"dtype\": \"date\",\n        \"min\": \"1970-01-01 00:00:00.000010154\",\n        \"max\": \"1970-01-01 00:00:00.000026257\",\n        \"num_unique_values\": 9,\n        \"samples\": [\n          21860\n        ],\n        \"semantic_type\": \"\",\n        \"description\": \"\"\n      }\n    },\n    {\n      \"column\": \"Bristol Park Hospital\",\n      \"properties\": {\n        \"dtype\": \"category\",\n        \"num_unique_values\": 13,\n        \"samples\": [\n          \"Uzima Dispensary And Maternity\"\n        ],\n        \"semantic_type\": \"\",\n        \"description\": \"\"\n      }\n    },\n    {\n      \"column\": \"24587\",\n      \"properties\": {\n        \"dtype\": \"date\",\n        \"min\": \"1970-01-01 00:00:00.000010154\",\n        \"max\": \"1970-01-01 00:00:00.000031579\",\n        \"num_unique_values\": 13,\n        \"samples\": [\n          13246\n        ],\n        \"semantic_type\": \"\",\n        \"description\": \"\"\n      }\n    }\n  ]\n}"
            }
          },
          "metadata": {},
          "execution_count": 7
        }
      ]
    },
    {
      "cell_type": "code",
      "source": [
        "Claim_database.head(2)"
      ],
      "metadata": {
        "colab": {
          "base_uri": "https://localhost:8080/",
          "height": 199
        },
        "id": "7JB0QGbfxFpu",
        "outputId": "06d09281-1c1c-4750-d3e4-58b47b06c61c"
      },
      "execution_count": 8,
      "outputs": [
        {
          "output_type": "execute_result",
          "data": {
            "text/plain": [
              "                       PAYEE_NAME EVENT_DATE     PATIENT_CARDNO BIRTH_DATE  \\\n",
              "0              Juja Road Hospital  14-Apr-24        31404809-01  20-Jul-96   \n",
              "1  Mary Help of the Sick Hospital  20-Mar-24  11400004227049-00  18-Dec-96   \n",
              "\n",
              "                            DIAG GROUP NAME DIAGNOSIS_CODE  \\\n",
              "0  Pregnancy, childbirth and the puerperium            O80   \n",
              "1  Pregnancy, childbirth and the puerperium          O82.1   \n",
              "\n",
              "                            DIAGNOSIS_NAME   INVOICE_ID  CONFIRMED_AMOUNT  \\\n",
              "0              Single spontaneous delivery  SC/45387/24             20000   \n",
              "1  Delivery by emergency caesarean section  MHH.2445160             27179   \n",
              "\n",
              "  COVER_TYPE  Facility Code  \n",
              "0     IP-MAT          30404  \n",
              "1     IP-MAT          10698  "
            ],
            "text/html": [
              "\n",
              "  <div id=\"df-157864b2-ee84-401c-bfba-87219659b364\" class=\"colab-df-container\">\n",
              "    <div>\n",
              "<style scoped>\n",
              "    .dataframe tbody tr th:only-of-type {\n",
              "        vertical-align: middle;\n",
              "    }\n",
              "\n",
              "    .dataframe tbody tr th {\n",
              "        vertical-align: top;\n",
              "    }\n",
              "\n",
              "    .dataframe thead th {\n",
              "        text-align: right;\n",
              "    }\n",
              "</style>\n",
              "<table border=\"1\" class=\"dataframe\">\n",
              "  <thead>\n",
              "    <tr style=\"text-align: right;\">\n",
              "      <th></th>\n",
              "      <th>PAYEE_NAME</th>\n",
              "      <th>EVENT_DATE</th>\n",
              "      <th>PATIENT_CARDNO</th>\n",
              "      <th>BIRTH_DATE</th>\n",
              "      <th>DIAG GROUP NAME</th>\n",
              "      <th>DIAGNOSIS_CODE</th>\n",
              "      <th>DIAGNOSIS_NAME</th>\n",
              "      <th>INVOICE_ID</th>\n",
              "      <th>CONFIRMED_AMOUNT</th>\n",
              "      <th>COVER_TYPE</th>\n",
              "      <th>Facility Code</th>\n",
              "    </tr>\n",
              "  </thead>\n",
              "  <tbody>\n",
              "    <tr>\n",
              "      <th>0</th>\n",
              "      <td>Juja Road Hospital</td>\n",
              "      <td>14-Apr-24</td>\n",
              "      <td>31404809-01</td>\n",
              "      <td>20-Jul-96</td>\n",
              "      <td>Pregnancy, childbirth and the puerperium</td>\n",
              "      <td>O80</td>\n",
              "      <td>Single spontaneous delivery</td>\n",
              "      <td>SC/45387/24</td>\n",
              "      <td>20000</td>\n",
              "      <td>IP-MAT</td>\n",
              "      <td>30404</td>\n",
              "    </tr>\n",
              "    <tr>\n",
              "      <th>1</th>\n",
              "      <td>Mary Help of the Sick Hospital</td>\n",
              "      <td>20-Mar-24</td>\n",
              "      <td>11400004227049-00</td>\n",
              "      <td>18-Dec-96</td>\n",
              "      <td>Pregnancy, childbirth and the puerperium</td>\n",
              "      <td>O82.1</td>\n",
              "      <td>Delivery by emergency caesarean section</td>\n",
              "      <td>MHH.2445160</td>\n",
              "      <td>27179</td>\n",
              "      <td>IP-MAT</td>\n",
              "      <td>10698</td>\n",
              "    </tr>\n",
              "  </tbody>\n",
              "</table>\n",
              "</div>\n",
              "    <div class=\"colab-df-buttons\">\n",
              "\n",
              "  <div class=\"colab-df-container\">\n",
              "    <button class=\"colab-df-convert\" onclick=\"convertToInteractive('df-157864b2-ee84-401c-bfba-87219659b364')\"\n",
              "            title=\"Convert this dataframe to an interactive table.\"\n",
              "            style=\"display:none;\">\n",
              "\n",
              "  <svg xmlns=\"http://www.w3.org/2000/svg\" height=\"24px\" viewBox=\"0 -960 960 960\">\n",
              "    <path d=\"M120-120v-720h720v720H120Zm60-500h600v-160H180v160Zm220 220h160v-160H400v160Zm0 220h160v-160H400v160ZM180-400h160v-160H180v160Zm440 0h160v-160H620v160ZM180-180h160v-160H180v160Zm440 0h160v-160H620v160Z\"/>\n",
              "  </svg>\n",
              "    </button>\n",
              "\n",
              "  <style>\n",
              "    .colab-df-container {\n",
              "      display:flex;\n",
              "      gap: 12px;\n",
              "    }\n",
              "\n",
              "    .colab-df-convert {\n",
              "      background-color: #E8F0FE;\n",
              "      border: none;\n",
              "      border-radius: 50%;\n",
              "      cursor: pointer;\n",
              "      display: none;\n",
              "      fill: #1967D2;\n",
              "      height: 32px;\n",
              "      padding: 0 0 0 0;\n",
              "      width: 32px;\n",
              "    }\n",
              "\n",
              "    .colab-df-convert:hover {\n",
              "      background-color: #E2EBFA;\n",
              "      box-shadow: 0px 1px 2px rgba(60, 64, 67, 0.3), 0px 1px 3px 1px rgba(60, 64, 67, 0.15);\n",
              "      fill: #174EA6;\n",
              "    }\n",
              "\n",
              "    .colab-df-buttons div {\n",
              "      margin-bottom: 4px;\n",
              "    }\n",
              "\n",
              "    [theme=dark] .colab-df-convert {\n",
              "      background-color: #3B4455;\n",
              "      fill: #D2E3FC;\n",
              "    }\n",
              "\n",
              "    [theme=dark] .colab-df-convert:hover {\n",
              "      background-color: #434B5C;\n",
              "      box-shadow: 0px 1px 3px 1px rgba(0, 0, 0, 0.15);\n",
              "      filter: drop-shadow(0px 1px 2px rgba(0, 0, 0, 0.3));\n",
              "      fill: #FFFFFF;\n",
              "    }\n",
              "  </style>\n",
              "\n",
              "    <script>\n",
              "      const buttonEl =\n",
              "        document.querySelector('#df-157864b2-ee84-401c-bfba-87219659b364 button.colab-df-convert');\n",
              "      buttonEl.style.display =\n",
              "        google.colab.kernel.accessAllowed ? 'block' : 'none';\n",
              "\n",
              "      async function convertToInteractive(key) {\n",
              "        const element = document.querySelector('#df-157864b2-ee84-401c-bfba-87219659b364');\n",
              "        const dataTable =\n",
              "          await google.colab.kernel.invokeFunction('convertToInteractive',\n",
              "                                                    [key], {});\n",
              "        if (!dataTable) return;\n",
              "\n",
              "        const docLinkHtml = 'Like what you see? Visit the ' +\n",
              "          '<a target=\"_blank\" href=https://colab.research.google.com/notebooks/data_table.ipynb>data table notebook</a>'\n",
              "          + ' to learn more about interactive tables.';\n",
              "        element.innerHTML = '';\n",
              "        dataTable['output_type'] = 'display_data';\n",
              "        await google.colab.output.renderOutput(dataTable, element);\n",
              "        const docLink = document.createElement('div');\n",
              "        docLink.innerHTML = docLinkHtml;\n",
              "        element.appendChild(docLink);\n",
              "      }\n",
              "    </script>\n",
              "  </div>\n",
              "\n",
              "\n",
              "<div id=\"df-3cf7af4f-8161-4127-a839-bf8622221ecc\">\n",
              "  <button class=\"colab-df-quickchart\" onclick=\"quickchart('df-3cf7af4f-8161-4127-a839-bf8622221ecc')\"\n",
              "            title=\"Suggest charts\"\n",
              "            style=\"display:none;\">\n",
              "\n",
              "<svg xmlns=\"http://www.w3.org/2000/svg\" height=\"24px\"viewBox=\"0 0 24 24\"\n",
              "     width=\"24px\">\n",
              "    <g>\n",
              "        <path d=\"M19 3H5c-1.1 0-2 .9-2 2v14c0 1.1.9 2 2 2h14c1.1 0 2-.9 2-2V5c0-1.1-.9-2-2-2zM9 17H7v-7h2v7zm4 0h-2V7h2v10zm4 0h-2v-4h2v4z\"/>\n",
              "    </g>\n",
              "</svg>\n",
              "  </button>\n",
              "\n",
              "<style>\n",
              "  .colab-df-quickchart {\n",
              "      --bg-color: #E8F0FE;\n",
              "      --fill-color: #1967D2;\n",
              "      --hover-bg-color: #E2EBFA;\n",
              "      --hover-fill-color: #174EA6;\n",
              "      --disabled-fill-color: #AAA;\n",
              "      --disabled-bg-color: #DDD;\n",
              "  }\n",
              "\n",
              "  [theme=dark] .colab-df-quickchart {\n",
              "      --bg-color: #3B4455;\n",
              "      --fill-color: #D2E3FC;\n",
              "      --hover-bg-color: #434B5C;\n",
              "      --hover-fill-color: #FFFFFF;\n",
              "      --disabled-bg-color: #3B4455;\n",
              "      --disabled-fill-color: #666;\n",
              "  }\n",
              "\n",
              "  .colab-df-quickchart {\n",
              "    background-color: var(--bg-color);\n",
              "    border: none;\n",
              "    border-radius: 50%;\n",
              "    cursor: pointer;\n",
              "    display: none;\n",
              "    fill: var(--fill-color);\n",
              "    height: 32px;\n",
              "    padding: 0;\n",
              "    width: 32px;\n",
              "  }\n",
              "\n",
              "  .colab-df-quickchart:hover {\n",
              "    background-color: var(--hover-bg-color);\n",
              "    box-shadow: 0 1px 2px rgba(60, 64, 67, 0.3), 0 1px 3px 1px rgba(60, 64, 67, 0.15);\n",
              "    fill: var(--button-hover-fill-color);\n",
              "  }\n",
              "\n",
              "  .colab-df-quickchart-complete:disabled,\n",
              "  .colab-df-quickchart-complete:disabled:hover {\n",
              "    background-color: var(--disabled-bg-color);\n",
              "    fill: var(--disabled-fill-color);\n",
              "    box-shadow: none;\n",
              "  }\n",
              "\n",
              "  .colab-df-spinner {\n",
              "    border: 2px solid var(--fill-color);\n",
              "    border-color: transparent;\n",
              "    border-bottom-color: var(--fill-color);\n",
              "    animation:\n",
              "      spin 1s steps(1) infinite;\n",
              "  }\n",
              "\n",
              "  @keyframes spin {\n",
              "    0% {\n",
              "      border-color: transparent;\n",
              "      border-bottom-color: var(--fill-color);\n",
              "      border-left-color: var(--fill-color);\n",
              "    }\n",
              "    20% {\n",
              "      border-color: transparent;\n",
              "      border-left-color: var(--fill-color);\n",
              "      border-top-color: var(--fill-color);\n",
              "    }\n",
              "    30% {\n",
              "      border-color: transparent;\n",
              "      border-left-color: var(--fill-color);\n",
              "      border-top-color: var(--fill-color);\n",
              "      border-right-color: var(--fill-color);\n",
              "    }\n",
              "    40% {\n",
              "      border-color: transparent;\n",
              "      border-right-color: var(--fill-color);\n",
              "      border-top-color: var(--fill-color);\n",
              "    }\n",
              "    60% {\n",
              "      border-color: transparent;\n",
              "      border-right-color: var(--fill-color);\n",
              "    }\n",
              "    80% {\n",
              "      border-color: transparent;\n",
              "      border-right-color: var(--fill-color);\n",
              "      border-bottom-color: var(--fill-color);\n",
              "    }\n",
              "    90% {\n",
              "      border-color: transparent;\n",
              "      border-bottom-color: var(--fill-color);\n",
              "    }\n",
              "  }\n",
              "</style>\n",
              "\n",
              "  <script>\n",
              "    async function quickchart(key) {\n",
              "      const quickchartButtonEl =\n",
              "        document.querySelector('#' + key + ' button');\n",
              "      quickchartButtonEl.disabled = true;  // To prevent multiple clicks.\n",
              "      quickchartButtonEl.classList.add('colab-df-spinner');\n",
              "      try {\n",
              "        const charts = await google.colab.kernel.invokeFunction(\n",
              "            'suggestCharts', [key], {});\n",
              "      } catch (error) {\n",
              "        console.error('Error during call to suggestCharts:', error);\n",
              "      }\n",
              "      quickchartButtonEl.classList.remove('colab-df-spinner');\n",
              "      quickchartButtonEl.classList.add('colab-df-quickchart-complete');\n",
              "    }\n",
              "    (() => {\n",
              "      let quickchartButtonEl =\n",
              "        document.querySelector('#df-3cf7af4f-8161-4127-a839-bf8622221ecc button');\n",
              "      quickchartButtonEl.style.display =\n",
              "        google.colab.kernel.accessAllowed ? 'block' : 'none';\n",
              "    })();\n",
              "  </script>\n",
              "</div>\n",
              "\n",
              "    </div>\n",
              "  </div>\n"
            ],
            "application/vnd.google.colaboratory.intrinsic+json": {
              "type": "dataframe",
              "variable_name": "Claim_database",
              "summary": "{\n  \"name\": \"Claim_database\",\n  \"rows\": 211,\n  \"fields\": [\n    {\n      \"column\": \"PAYEE_NAME\",\n      \"properties\": {\n        \"dtype\": \"category\",\n        \"num_unique_values\": 13,\n        \"samples\": [\n          \"Balozi Hospital LTD\",\n          \"Saint Bridget Hospital LTD\",\n          \"Juja Road Hospital\"\n        ],\n        \"semantic_type\": \"\",\n        \"description\": \"\"\n      }\n    },\n    {\n      \"column\": \"EVENT_DATE\",\n      \"properties\": {\n        \"dtype\": \"object\",\n        \"num_unique_values\": 129,\n        \"samples\": [\n          \"5-Jan-24\",\n          \"28-Mar-24\",\n          \"26-Feb-24\"\n        ],\n        \"semantic_type\": \"\",\n        \"description\": \"\"\n      }\n    },\n    {\n      \"column\": \"PATIENT_CARDNO\",\n      \"properties\": {\n        \"dtype\": \"string\",\n        \"num_unique_values\": 181,\n        \"samples\": [\n          \"37390914-01\",\n          \"11400003722696-01\",\n          \"29938473-01\"\n        ],\n        \"semantic_type\": \"\",\n        \"description\": \"\"\n      }\n    },\n    {\n      \"column\": \"BIRTH_DATE\",\n      \"properties\": {\n        \"dtype\": \"object\",\n        \"num_unique_values\": 169,\n        \"samples\": [\n          \"1-Jan-20\",\n          \"5-Oct-96\",\n          \"18-May-99\"\n        ],\n        \"semantic_type\": \"\",\n        \"description\": \"\"\n      }\n    },\n    {\n      \"column\": \"DIAG GROUP NAME\",\n      \"properties\": {\n        \"dtype\": \"category\",\n        \"num_unique_values\": 1,\n        \"samples\": [\n          \"Pregnancy, childbirth and the puerperium\"\n        ],\n        \"semantic_type\": \"\",\n        \"description\": \"\"\n      }\n    },\n    {\n      \"column\": \"DIAGNOSIS_CODE\",\n      \"properties\": {\n        \"dtype\": \"category\",\n        \"num_unique_values\": 50,\n        \"samples\": [\n          \"O05.4\"\n        ],\n        \"semantic_type\": \"\",\n        \"description\": \"\"\n      }\n    },\n    {\n      \"column\": \"DIAGNOSIS_NAME\",\n      \"properties\": {\n        \"dtype\": \"category\",\n        \"num_unique_values\": 50,\n        \"samples\": [\n          \"Other abortion: Incomplete, without complication\"\n        ],\n        \"semantic_type\": \"\",\n        \"description\": \"\"\n      }\n    },\n    {\n      \"column\": \"INVOICE_ID\",\n      \"properties\": {\n        \"dtype\": \"string\",\n        \"num_unique_values\": 211,\n        \"samples\": [\n          \"UTW/293570/24\"\n        ],\n        \"semantic_type\": \"\",\n        \"description\": \"\"\n      }\n    },\n    {\n      \"column\": \"CONFIRMED_AMOUNT\",\n      \"properties\": {\n        \"dtype\": \"number\",\n        \"std\": 18432,\n        \"min\": 0,\n        \"max\": 80000,\n        \"num_unique_values\": 116,\n        \"samples\": [\n          2628\n        ],\n        \"semantic_type\": \"\",\n        \"description\": \"\"\n      }\n    },\n    {\n      \"column\": \"COVER_TYPE\",\n      \"properties\": {\n        \"dtype\": \"category\",\n        \"num_unique_values\": 3,\n        \"samples\": [\n          \"IP-MAT\"\n        ],\n        \"semantic_type\": \"\",\n        \"description\": \"\"\n      }\n    },\n    {\n      \"column\": \"Facility Code\",\n      \"properties\": {\n        \"dtype\": \"number\",\n        \"std\": 7712,\n        \"min\": 10154,\n        \"max\": 31579,\n        \"num_unique_values\": 13,\n        \"samples\": [\n          22995\n        ],\n        \"semantic_type\": \"\",\n        \"description\": \"\"\n      }\n    }\n  ]\n}"
            }
          },
          "metadata": {},
          "execution_count": 8
        }
      ]
    },
    {
      "cell_type": "markdown",
      "source": [
        "## Data Manipulation"
      ],
      "metadata": {
        "id": "k-AhsfqTxVBj"
      }
    },
    {
      "cell_type": "code",
      "source": [
        "Britam_regions.info()"
      ],
      "metadata": {
        "colab": {
          "base_uri": "https://localhost:8080/"
        },
        "id": "qjEqkKBMMsjm",
        "outputId": "d247b489-a2bd-4fb7-ae88-b63ad1760cbc"
      },
      "execution_count": 9,
      "outputs": [
        {
          "output_type": "stream",
          "name": "stdout",
          "text": [
            "<class 'pandas.core.frame.DataFrame'>\n",
            "RangeIndex: 32 entries, 0 to 31\n",
            "Data columns (total 10 columns):\n",
            " #   Column                 Non-Null Count  Dtype \n",
            "---  ------                 --------------  ----- \n",
            " 0   Number                 32 non-null     int64 \n",
            " 1   Health Facility        32 non-null     object\n",
            " 2   MFL Code               32 non-null     int64 \n",
            " 3   KHIS Official Names    32 non-null     object\n",
            " 4   PAYEE_NAME             32 non-null     object\n",
            " 5                          32 non-null     object\n",
            " 6   Facility Name          32 non-null     object\n",
            " 7   Facility code          32 non-null     object\n",
            " 8   Bristol Park Hospital  32 non-null     object\n",
            " 9   24587                  32 non-null     object\n",
            "dtypes: int64(2), object(8)\n",
            "memory usage: 2.6+ KB\n"
          ]
        }
      ]
    },
    {
      "cell_type": "code",
      "source": [
        "Claim_database.info()"
      ],
      "metadata": {
        "colab": {
          "base_uri": "https://localhost:8080/"
        },
        "id": "baXD0xNNxfwJ",
        "outputId": "a9a9f532-461c-47ca-faa3-ccd003fd848b"
      },
      "execution_count": 10,
      "outputs": [
        {
          "output_type": "stream",
          "name": "stdout",
          "text": [
            "<class 'pandas.core.frame.DataFrame'>\n",
            "RangeIndex: 211 entries, 0 to 210\n",
            "Data columns (total 11 columns):\n",
            " #   Column            Non-Null Count  Dtype \n",
            "---  ------            --------------  ----- \n",
            " 0   PAYEE_NAME        211 non-null    object\n",
            " 1   EVENT_DATE        211 non-null    object\n",
            " 2   PATIENT_CARDNO    211 non-null    object\n",
            " 3   BIRTH_DATE        211 non-null    object\n",
            " 4   DIAG GROUP NAME   211 non-null    object\n",
            " 5   DIAGNOSIS_CODE    211 non-null    object\n",
            " 6   DIAGNOSIS_NAME    211 non-null    object\n",
            " 7   INVOICE_ID        211 non-null    object\n",
            " 8   CONFIRMED_AMOUNT  211 non-null    int64 \n",
            " 9   COVER_TYPE        211 non-null    object\n",
            " 10  Facility Code     211 non-null    int64 \n",
            "dtypes: int64(2), object(9)\n",
            "memory usage: 18.3+ KB\n"
          ]
        }
      ]
    },
    {
      "cell_type": "code",
      "source": [
        "Britam_outcome.info()"
      ],
      "metadata": {
        "colab": {
          "base_uri": "https://localhost:8080/"
        },
        "id": "HClCqniGxlsf",
        "outputId": "920642fd-b3fa-4970-d518-785c22b04ab6"
      },
      "execution_count": 11,
      "outputs": [
        {
          "output_type": "stream",
          "name": "stdout",
          "text": [
            "<class 'pandas.core.frame.DataFrame'>\n",
            "RangeIndex: 26 entries, 0 to 25\n",
            "Data columns (total 13 columns):\n",
            " #   Column                                                 Non-Null Count  Dtype \n",
            "---  ------                                                 --------------  ----- \n",
            " 0   Hospital name                                          26 non-null     object\n",
            " 1   Client date of birth                                   26 non-null     object\n",
            " 2   Please indicate number of days admitted                26 non-null     object\n",
            " 3   Indicate mode of delivery                              26 non-null     object\n",
            " 4   Please indicate the neonatal birth outcome             26 non-null     object\n",
            " 5   Please indicate if induction of labor was done         26 non-null     object\n",
            " 6   Please indicate the duration of labor                  26 non-null     object\n",
            " 7   Please indicate if Episiotomy was done                 26 non-null     object\n",
            " 8   Please indicate if there was perenial tears            26 non-null     object\n",
            " 9   Please indicate the reason Caesarean Section was done  26 non-null     object\n",
            " 10  Was there a Delivery/ Post Partum complication         26 non-null     object\n",
            " 11  Indicate the Delivery and/or Post Partum Complication  26 non-null     object\n",
            " 12  Facility Code                                          26 non-null     int64 \n",
            "dtypes: int64(1), object(12)\n",
            "memory usage: 2.8+ KB\n"
          ]
        }
      ]
    },
    {
      "cell_type": "code",
      "source": [
        "df = Claim_database"
      ],
      "metadata": {
        "id": "VDP9u7Zkzzob"
      },
      "execution_count": 12,
      "outputs": []
    },
    {
      "cell_type": "code",
      "source": [
        "\n",
        "# Calculate the length of each value in the 'PATIENT_CARDNO' column\n",
        "df['PATIENT_CARDNO_LENGTH'] = df['PATIENT_CARDNO'].astype(str).apply(len)\n",
        "\n",
        "# Calculate the average length\n",
        "average_length = df['PATIENT_CARDNO_LENGTH'].mean()\n",
        "\n",
        "# Calculate the median length\n",
        "median_length = df['PATIENT_CARDNO_LENGTH'].median()\n",
        "\n",
        "# Calculate the 90th percentile\n",
        "percentile_90 = np.percentile(df['PATIENT_CARDNO_LENGTH'], 90)\n",
        "\n",
        "# Identify outliers\n",
        "# Assuming outliers are those beyond 1.5 * IQR (Interquartile Range) from the 1st and 3rd quartiles\n",
        "Q1 = df['PATIENT_CARDNO_LENGTH'].quantile(0.25)\n",
        "Q3 = df['PATIENT_CARDNO_LENGTH'].quantile(0.75)\n",
        "IQR = Q3 - Q1\n",
        "outliers = df[(df['PATIENT_CARDNO_LENGTH'] < Q1 - 1.5 * IQR) | (df['PATIENT_CARDNO_LENGTH'] > Q3 + 1.5 * IQR)]\n",
        "\n",
        "# Display results\n",
        "print(\"Average Length:\", average_length)\n",
        "print(\"Median Length:\", median_length)\n",
        "print(\"90th Percentile Length:\", percentile_90)\n",
        "print(\"Outliers:\\n\", outliers[['PATIENT_CARDNO', 'PATIENT_CARDNO_LENGTH']])\n"
      ],
      "metadata": {
        "colab": {
          "base_uri": "https://localhost:8080/"
        },
        "id": "bFy6jkmn1suh",
        "outputId": "d4824aad-8922-4474-f779-356af9097124"
      },
      "execution_count": 13,
      "outputs": [
        {
          "output_type": "stream",
          "name": "stdout",
          "text": [
            "Average Length: 13.199052132701421\n",
            "Median Length: 11.0\n",
            "90th Percentile Length: 17.0\n",
            "Outliers:\n",
            " Empty DataFrame\n",
            "Columns: [PATIENT_CARDNO, PATIENT_CARDNO_LENGTH]\n",
            "Index: []\n"
          ]
        }
      ]
    },
    {
      "cell_type": "code",
      "source": [
        "# Count entries with length greater than 15\n",
        "count_greater_than_15 = (df['PATIENT_CARDNO_LENGTH'] >= 17).sum()\n",
        "\n",
        "print(\"Number of entries with length greater than 15:\", count_greater_than_15)"
      ],
      "metadata": {
        "colab": {
          "base_uri": "https://localhost:8080/"
        },
        "id": "JIFkpSht2jVN",
        "outputId": "da84d7dc-1462-4c2e-f546-ec25f105689e"
      },
      "execution_count": 14,
      "outputs": [
        {
          "output_type": "stream",
          "name": "stdout",
          "text": [
            "Number of entries with length greater than 15: 73\n"
          ]
        }
      ]
    },
    {
      "cell_type": "code",
      "source": [
        "# Calculate the percentage of entries with length greater than 15\n",
        "percentage_greater_than_15 = (count_greater_than_15 / len(df)) * 100\n",
        "\n",
        "print(f\"Percentage of entries with length greater than 15: {percentage_greater_than_15:.2f}%\")"
      ],
      "metadata": {
        "colab": {
          "base_uri": "https://localhost:8080/"
        },
        "id": "mKsv7eQn2x0c",
        "outputId": "4814a397-f6e1-44fb-cedf-9d3c1b3118da"
      },
      "execution_count": 15,
      "outputs": [
        {
          "output_type": "stream",
          "name": "stdout",
          "text": [
            "Percentage of entries with length greater than 15: 34.60%\n"
          ]
        }
      ]
    },
    {
      "cell_type": "code",
      "source": [
        "\n",
        "# Calculate the length of each value in the 'PATIENT_CARDNO' column\n",
        "df['PATIENT_CARDNO_LENGTH'] = df['PATIENT_CARDNO'].astype(str).apply(len)\n",
        "\n",
        "# Calculate statistical parameters\n",
        "average_length = df['PATIENT_CARDNO_LENGTH'].mean()\n",
        "median_length = df['PATIENT_CARDNO_LENGTH'].median()\n",
        "percentile_75 = np.percentile(df['PATIENT_CARDNO_LENGTH'], 75)\n",
        "\n",
        "# You might choose the 90th percentile as a normal length threshold\n",
        "normal_length_threshold = percentile_75\n",
        "\n",
        "# Identify outliers using the 1.5 * IQR method\n",
        "Q1 = df['PATIENT_CARDNO_LENGTH'].quantile(0.25)\n",
        "Q3 = df['PATIENT_CARDNO_LENGTH'].quantile(0.75)\n",
        "IQR = Q3 - Q1\n",
        "outliers = df[(df['PATIENT_CARDNO_LENGTH'] < Q1 - 1.5 * IQR) | (df['PATIENT_CARDNO_LENGTH'] > Q3 + 1.5 * IQR)]\n",
        "exceed_normal_length = df[df['PATIENT_CARDNO_LENGTH'] > normal_length_threshold]\n",
        "\n",
        "# Calculate metrics\n",
        "total_entries = len(df)\n",
        "num_outliers = len(outliers)\n",
        "percentage_outliers = (num_outliers / total_entries) * 100\n",
        "num_exceed_normal = len(exceed_normal_length)\n",
        "percentage_exceed_normal = (num_exceed_normal / total_entries) * 100\n",
        "\n",
        "# Create a table to display results\n",
        "table = [\n",
        "    [\"Total Entries\", total_entries],\n",
        "    [\"Outliers\", num_outliers],\n",
        "    [\"Percentage of Outliers (%)\", f\"{percentage_outliers:.2f}%\"],\n",
        "    [\"Entries Exceeding 75th Percentile Length\", num_exceed_normal],\n",
        "    [\"Percentage Exceeding 75th Percentile Length (%)\", f\"{percentage_exceed_normal:.2f}%\"]\n",
        "]\n",
        "\n",
        "# Print the table\n",
        "print(tabulate(table, headers=[\"Metric\", \"Value\"], tablefmt=\"pipe\"))\n"
      ],
      "metadata": {
        "colab": {
          "base_uri": "https://localhost:8080/"
        },
        "id": "N_THc3544t6Q",
        "outputId": "1b241e0a-5c3a-4eb9-f1da-ce9b71281d5a"
      },
      "execution_count": 17,
      "outputs": [
        {
          "output_type": "stream",
          "name": "stdout",
          "text": [
            "| Metric                                          | Value   |\n",
            "|:------------------------------------------------|:--------|\n",
            "| Total Entries                                   | 211     |\n",
            "| Outliers                                        | 0       |\n",
            "| Percentage of Outliers (%)                      | 0.00%   |\n",
            "| Entries Exceeding 75th Percentile Length        | 0       |\n",
            "| Percentage Exceeding 75th Percentile Length (%) | 0.00%   |\n"
          ]
        }
      ]
    },
    {
      "cell_type": "code",
      "source": [
        "print(df.columns)\n"
      ],
      "metadata": {
        "colab": {
          "base_uri": "https://localhost:8080/"
        },
        "id": "4gF5W52W9M-N",
        "outputId": "ed10be24-1767-4147-84ad-b5184d612060"
      },
      "execution_count": 18,
      "outputs": [
        {
          "output_type": "stream",
          "name": "stdout",
          "text": [
            "Index(['PAYEE_NAME', 'EVENT_DATE', 'PATIENT_CARDNO', 'BIRTH_DATE',\n",
            "       'DIAG GROUP NAME', 'DIAGNOSIS_CODE', 'DIAGNOSIS_NAME', 'INVOICE_ID',\n",
            "       'CONFIRMED_AMOUNT', 'COVER_TYPE', 'Facility Code',\n",
            "       'PATIENT_CARDNO_LENGTH'],\n",
            "      dtype='object')\n"
          ]
        }
      ]
    },
    {
      "cell_type": "code",
      "source": [
        "\n",
        "# Calculate the length of each value in the 'PATIENT_CARDNO' and 'Facility Code' columns\n",
        "df['PATIENT_CARDNO_LENGTH'] = df['PATIENT_CARDNO'].astype(str).apply(len)\n",
        "df['FACILITY_CODE_LENGTH'] = df['Facility Code'].astype(str).apply(len)\n",
        "\n",
        "# Define thresholds and calculate metrics for both columns\n",
        "def calculate_metrics(df, length_column, original_column):\n",
        "    average_length = df[length_column].mean()\n",
        "    median_length = df[length_column].median()\n",
        "    percentile_75 = np.percentile(df[length_column], 75)\n",
        "\n",
        "    # Define normal length threshold as the 75th percentile\n",
        "    normal_length_threshold = percentile_75\n",
        "\n",
        "    # Identify outliers using the 1.5 * IQR method\n",
        "    Q1 = df[length_column].quantile(0.25)\n",
        "    Q3 = df[length_column].quantile(0.75)\n",
        "    IQR = Q3 - Q1\n",
        "    outliers = df[(df[length_column] < Q1 - 1.5 * IQR) | (df[length_column] > Q3 + 1.5 * IQR)]\n",
        "    exceed_normal_length = df[df[length_column] > normal_length_threshold]\n",
        "\n",
        "    total_entries = len(df)\n",
        "    num_outliers = len(outliers)\n",
        "    percentage_outliers = (num_outliers / total_entries) * 100\n",
        "    num_exceed_normal = len(exceed_normal_length)\n",
        "    percentage_exceed_normal = (num_exceed_normal / total_entries) * 100\n",
        "    blank_values = df[original_column].isna().sum()\n",
        "\n",
        "    return [total_entries, num_outliers, f\"{percentage_outliers:.2f}%\", num_exceed_normal, f\"{percentage_exceed_normal:.2f}%\", blank_values, f\"{average_length:.2f}\", f\"{median_length:.2f}\"]\n",
        "\n",
        "# Generate metrics for both columns\n",
        "patient_cardno_metrics = calculate_metrics(df, 'PATIENT_CARDNO_LENGTH', 'PATIENT_CARDNO')\n",
        "facility_code_metrics = calculate_metrics(df, 'FACILITY_CODE_LENGTH', 'Facility Code')\n",
        "\n",
        "# Convert to DataFrame for tabulation\n",
        "metrics_df = pd.DataFrame({\n",
        "    \"Metric\": [\n",
        "        \"Total Entries\", \"Outliers\", \"Percentage of Outliers\",\n",
        "        \"Entries Exceeding 75th Percentile\", \"Percentage Exceeding 75th Percentile\",\n",
        "        \"Blank Values\", \"Average Length\", \"Median Length\"\n",
        "    ],\n",
        "    \"Patient Card No\": patient_cardno_metrics,\n",
        "    \"Facility Code\": facility_code_metrics\n",
        "})\n",
        "\n",
        "# Styling the DataFrame using Pandas' Styler\n",
        "styled_df = metrics_df.style.set_table_styles(\n",
        "    [{\n",
        "        'selector': 'th',\n",
        "        'props': [('font-family', 'Cambria'), ('border-style', 'solid'), ('border-width', '1px'), ('background-color', '#60A5FA')]\n",
        "    }, {\n",
        "        'selector': 'td',\n",
        "        'props': [('font-family', 'Cambria'), ('border-style', 'solid'), ('border-width', '1px')]\n",
        "    }]\n",
        ").format(\"{:}\")\n",
        "\n",
        "# Displaying the styled DataFrame in a Jupyter Notebook\n",
        "styled_df\n"
      ],
      "metadata": {
        "colab": {
          "base_uri": "https://localhost:8080/",
          "height": 306
        },
        "id": "M4FFJ-c0_NYB",
        "outputId": "5b83e983-b987-4b53-f9a3-b5ab026574f6"
      },
      "execution_count": 19,
      "outputs": [
        {
          "output_type": "execute_result",
          "data": {
            "text/plain": [
              "<pandas.io.formats.style.Styler at 0x79b496840190>"
            ],
            "text/html": [
              "<style type=\"text/css\">\n",
              "#T_793f9 th {\n",
              "  font-family: Cambria;\n",
              "  border-style: solid;\n",
              "  border-width: 1px;\n",
              "  background-color: #60A5FA;\n",
              "}\n",
              "#T_793f9 td {\n",
              "  font-family: Cambria;\n",
              "  border-style: solid;\n",
              "  border-width: 1px;\n",
              "}\n",
              "</style>\n",
              "<table id=\"T_793f9\" class=\"dataframe\">\n",
              "  <thead>\n",
              "    <tr>\n",
              "      <th class=\"blank level0\" >&nbsp;</th>\n",
              "      <th id=\"T_793f9_level0_col0\" class=\"col_heading level0 col0\" >Metric</th>\n",
              "      <th id=\"T_793f9_level0_col1\" class=\"col_heading level0 col1\" >Patient Card No</th>\n",
              "      <th id=\"T_793f9_level0_col2\" class=\"col_heading level0 col2\" >Facility Code</th>\n",
              "    </tr>\n",
              "  </thead>\n",
              "  <tbody>\n",
              "    <tr>\n",
              "      <th id=\"T_793f9_level0_row0\" class=\"row_heading level0 row0\" >0</th>\n",
              "      <td id=\"T_793f9_row0_col0\" class=\"data row0 col0\" >Total Entries</td>\n",
              "      <td id=\"T_793f9_row0_col1\" class=\"data row0 col1\" >211</td>\n",
              "      <td id=\"T_793f9_row0_col2\" class=\"data row0 col2\" >211</td>\n",
              "    </tr>\n",
              "    <tr>\n",
              "      <th id=\"T_793f9_level0_row1\" class=\"row_heading level0 row1\" >1</th>\n",
              "      <td id=\"T_793f9_row1_col0\" class=\"data row1 col0\" >Outliers</td>\n",
              "      <td id=\"T_793f9_row1_col1\" class=\"data row1 col1\" >0</td>\n",
              "      <td id=\"T_793f9_row1_col2\" class=\"data row1 col2\" >0</td>\n",
              "    </tr>\n",
              "    <tr>\n",
              "      <th id=\"T_793f9_level0_row2\" class=\"row_heading level0 row2\" >2</th>\n",
              "      <td id=\"T_793f9_row2_col0\" class=\"data row2 col0\" >Percentage of Outliers</td>\n",
              "      <td id=\"T_793f9_row2_col1\" class=\"data row2 col1\" >0.00%</td>\n",
              "      <td id=\"T_793f9_row2_col2\" class=\"data row2 col2\" >0.00%</td>\n",
              "    </tr>\n",
              "    <tr>\n",
              "      <th id=\"T_793f9_level0_row3\" class=\"row_heading level0 row3\" >3</th>\n",
              "      <td id=\"T_793f9_row3_col0\" class=\"data row3 col0\" >Entries Exceeding 75th Percentile</td>\n",
              "      <td id=\"T_793f9_row3_col1\" class=\"data row3 col1\" >0</td>\n",
              "      <td id=\"T_793f9_row3_col2\" class=\"data row3 col2\" >0</td>\n",
              "    </tr>\n",
              "    <tr>\n",
              "      <th id=\"T_793f9_level0_row4\" class=\"row_heading level0 row4\" >4</th>\n",
              "      <td id=\"T_793f9_row4_col0\" class=\"data row4 col0\" >Percentage Exceeding 75th Percentile</td>\n",
              "      <td id=\"T_793f9_row4_col1\" class=\"data row4 col1\" >0.00%</td>\n",
              "      <td id=\"T_793f9_row4_col2\" class=\"data row4 col2\" >0.00%</td>\n",
              "    </tr>\n",
              "    <tr>\n",
              "      <th id=\"T_793f9_level0_row5\" class=\"row_heading level0 row5\" >5</th>\n",
              "      <td id=\"T_793f9_row5_col0\" class=\"data row5 col0\" >Blank Values</td>\n",
              "      <td id=\"T_793f9_row5_col1\" class=\"data row5 col1\" >0</td>\n",
              "      <td id=\"T_793f9_row5_col2\" class=\"data row5 col2\" >0</td>\n",
              "    </tr>\n",
              "    <tr>\n",
              "      <th id=\"T_793f9_level0_row6\" class=\"row_heading level0 row6\" >6</th>\n",
              "      <td id=\"T_793f9_row6_col0\" class=\"data row6 col0\" >Average Length</td>\n",
              "      <td id=\"T_793f9_row6_col1\" class=\"data row6 col1\" >13.20</td>\n",
              "      <td id=\"T_793f9_row6_col2\" class=\"data row6 col2\" >5.00</td>\n",
              "    </tr>\n",
              "    <tr>\n",
              "      <th id=\"T_793f9_level0_row7\" class=\"row_heading level0 row7\" >7</th>\n",
              "      <td id=\"T_793f9_row7_col0\" class=\"data row7 col0\" >Median Length</td>\n",
              "      <td id=\"T_793f9_row7_col1\" class=\"data row7 col1\" >11.00</td>\n",
              "      <td id=\"T_793f9_row7_col2\" class=\"data row7 col2\" >5.00</td>\n",
              "    </tr>\n",
              "  </tbody>\n",
              "</table>\n"
            ]
          },
          "metadata": {},
          "execution_count": 19
        }
      ]
    },
    {
      "cell_type": "markdown",
      "source": [
        "When analyzing data quality we looked at the length of values in columns such as 'PATIENT_CARDNO' and 'Facility Code', the metrics derived offer a detailed view of data distribution from a textual or string-based perspective. Metrics like the average and median lengths provide insights into the central tendencies of data entry sizes, revealing how verbose or concise the typical entries are. The average length can be influenced by unusually long or short entries, while the median offers a midpoint that's less susceptible to extreme values, showing a more typical entry length.\n",
        "\n",
        "Outliers and entries exceeding the 75th percentile are particularly revealing in this context. Outliers determined by the 1.5 * IQR method highlight entries that deviate significantly from the normal range, which could indicate data entry errors, anomalies, or simply longer than usual content. Tracking entries that exceed the 75th percentile helps identify a significant amount of data that is lengthier than typical entries."
      ],
      "metadata": {
        "id": "xXwfL2yOAOe8"
      }
    },
    {
      "cell_type": "code",
      "source": [
        "\n",
        "# Calculate the median and average value of 'CONFIRMED_AMOUNT'\n",
        "median_amount = df['CONFIRMED_AMOUNT'].median()\n",
        "average_amount = df['CONFIRMED_AMOUNT'].mean()\n",
        "\n",
        "# Calculate the 75th percentile of 'CONFIRMED_AMOUNT'\n",
        "percentile_75_amount = np.percentile(df['CONFIRMED_AMOUNT'].dropna(), 75)\n",
        "\n",
        "# Determine the number and percentage of entries that exceed the 75th percentile\n",
        "entries_exceeding_75 = df[df['CONFIRMED_AMOUNT'] > percentile_75_amount]\n",
        "number_exceeding_75 = len(entries_exceeding_75)\n",
        "percentage_exceeding_75 = (number_exceeding_75 / len(df)) * 100\n",
        "\n",
        "# Identify outliers using the IQR method\n",
        "Q1 = df['CONFIRMED_AMOUNT'].quantile(0.25)\n",
        "Q3 = df['CONFIRMED_AMOUNT'].quantile(0.75)\n",
        "IQR = Q3 - Q1\n",
        "outliers = df[(df['CONFIRMED_AMOUNT'] < Q1 - 1.5 * IQR) | (df['CONFIRMED_AMOUNT'] > Q3 + 1.5 * IQR)]\n",
        "number_of_outliers = len(outliers)\n",
        "percentage_of_outliers = (number_of_outliers / len(df)) * 100\n",
        "\n",
        "# Count total entries and number of blank values\n",
        "total_entries = len(df)\n",
        "blank_values = df['CONFIRMED_AMOUNT'].isna().sum()\n",
        "\n",
        "\n",
        "# Collecting all metrics in a dictionary for easier DataFrame creation\n",
        "data = {\n",
        "    \"Audit Metric\": [\n",
        "        \"Total Entries\",\n",
        "        \"Blank Values\",\n",
        "        \"Median Amount\",\n",
        "        \"Average Amount\",\n",
        "        \"75th Percentile Amount\",\n",
        "        \"Number Exceeding 75th Percentile\",\n",
        "        \"Percentage of values Exceeding 75th Percentile\",\n",
        "        \"Number of Outliers\",\n",
        "        \"Percentage of Outliers\"\n",
        "    ],\n",
        "    \"Confirmed Amount\": [\n",
        "        total_entries,\n",
        "        blank_values,\n",
        "        f\"{median_amount:.2f}\",\n",
        "        f\"{average_amount:.2f}\",\n",
        "        f\"{percentile_75_amount:.2f}\",\n",
        "        number_exceeding_75,\n",
        "        f\"{percentage_exceeding_75:.2f}%\",\n",
        "        number_of_outliers,\n",
        "        f\"{percentage_of_outliers:.2f}%\"\n",
        "\n",
        "    ]\n",
        "}\n",
        "\n",
        "# Creating the DataFrame\n",
        "df_results = pd.DataFrame(data)\n",
        "\n",
        "# Styling the DataFrame using Pandas' Styler\n",
        "styled_df = df_results.style.set_table_styles(\n",
        "    [{\n",
        "        'selector': 'th',\n",
        "        'props': [('font-family', 'Cambria'), ('border-style', 'solid'), ('border-width', '1px')]\n",
        "    }, {\n",
        "        'selector': 'td',\n",
        "        'props': [('font-family', 'Cambria'), ('border-style', 'solid'), ('border-width', '1px')]\n",
        "    }]\n",
        ")\n",
        "\n",
        "# Displaying the styled DataFrame in a Jupyter Notebook\n",
        "styled_df\n"
      ],
      "metadata": {
        "colab": {
          "base_uri": "https://localhost:8080/",
          "height": 339
        },
        "id": "hoJmXbwbD0my",
        "outputId": "916cda54-31e8-4232-eb30-b4259d5d83ca"
      },
      "execution_count": 20,
      "outputs": [
        {
          "output_type": "execute_result",
          "data": {
            "text/plain": [
              "<pandas.io.formats.style.Styler at 0x79b4c71159f0>"
            ],
            "text/html": [
              "<style type=\"text/css\">\n",
              "#T_26852 th {\n",
              "  font-family: Cambria;\n",
              "  border-style: solid;\n",
              "  border-width: 1px;\n",
              "}\n",
              "#T_26852 td {\n",
              "  font-family: Cambria;\n",
              "  border-style: solid;\n",
              "  border-width: 1px;\n",
              "}\n",
              "</style>\n",
              "<table id=\"T_26852\" class=\"dataframe\">\n",
              "  <thead>\n",
              "    <tr>\n",
              "      <th class=\"blank level0\" >&nbsp;</th>\n",
              "      <th id=\"T_26852_level0_col0\" class=\"col_heading level0 col0\" >Audit Metric</th>\n",
              "      <th id=\"T_26852_level0_col1\" class=\"col_heading level0 col1\" >Confirmed Amount</th>\n",
              "    </tr>\n",
              "  </thead>\n",
              "  <tbody>\n",
              "    <tr>\n",
              "      <th id=\"T_26852_level0_row0\" class=\"row_heading level0 row0\" >0</th>\n",
              "      <td id=\"T_26852_row0_col0\" class=\"data row0 col0\" >Total Entries</td>\n",
              "      <td id=\"T_26852_row0_col1\" class=\"data row0 col1\" >211</td>\n",
              "    </tr>\n",
              "    <tr>\n",
              "      <th id=\"T_26852_level0_row1\" class=\"row_heading level0 row1\" >1</th>\n",
              "      <td id=\"T_26852_row1_col0\" class=\"data row1 col0\" >Blank Values</td>\n",
              "      <td id=\"T_26852_row1_col1\" class=\"data row1 col1\" >0</td>\n",
              "    </tr>\n",
              "    <tr>\n",
              "      <th id=\"T_26852_level0_row2\" class=\"row_heading level0 row2\" >2</th>\n",
              "      <td id=\"T_26852_row2_col0\" class=\"data row2 col0\" >Median Amount</td>\n",
              "      <td id=\"T_26852_row2_col1\" class=\"data row2 col1\" >15000.00</td>\n",
              "    </tr>\n",
              "    <tr>\n",
              "      <th id=\"T_26852_level0_row3\" class=\"row_heading level0 row3\" >3</th>\n",
              "      <td id=\"T_26852_row3_col0\" class=\"data row3 col0\" >Average Amount</td>\n",
              "      <td id=\"T_26852_row3_col1\" class=\"data row3 col1\" >19271.76</td>\n",
              "    </tr>\n",
              "    <tr>\n",
              "      <th id=\"T_26852_level0_row4\" class=\"row_heading level0 row4\" >4</th>\n",
              "      <td id=\"T_26852_row4_col0\" class=\"data row4 col0\" >75th Percentile Amount</td>\n",
              "      <td id=\"T_26852_row4_col1\" class=\"data row4 col1\" >30000.00</td>\n",
              "    </tr>\n",
              "    <tr>\n",
              "      <th id=\"T_26852_level0_row5\" class=\"row_heading level0 row5\" >5</th>\n",
              "      <td id=\"T_26852_row5_col0\" class=\"data row5 col0\" >Number Exceeding 75th Percentile</td>\n",
              "      <td id=\"T_26852_row5_col1\" class=\"data row5 col1\" >43</td>\n",
              "    </tr>\n",
              "    <tr>\n",
              "      <th id=\"T_26852_level0_row6\" class=\"row_heading level0 row6\" >6</th>\n",
              "      <td id=\"T_26852_row6_col0\" class=\"data row6 col0\" >Percentage of values Exceeding 75th Percentile</td>\n",
              "      <td id=\"T_26852_row6_col1\" class=\"data row6 col1\" >20.38%</td>\n",
              "    </tr>\n",
              "    <tr>\n",
              "      <th id=\"T_26852_level0_row7\" class=\"row_heading level0 row7\" >7</th>\n",
              "      <td id=\"T_26852_row7_col0\" class=\"data row7 col0\" >Number of Outliers</td>\n",
              "      <td id=\"T_26852_row7_col1\" class=\"data row7 col1\" >1</td>\n",
              "    </tr>\n",
              "    <tr>\n",
              "      <th id=\"T_26852_level0_row8\" class=\"row_heading level0 row8\" >8</th>\n",
              "      <td id=\"T_26852_row8_col0\" class=\"data row8 col0\" >Percentage of Outliers</td>\n",
              "      <td id=\"T_26852_row8_col1\" class=\"data row8 col1\" >0.47%</td>\n",
              "    </tr>\n",
              "  </tbody>\n",
              "</table>\n"
            ]
          },
          "metadata": {},
          "execution_count": 20
        }
      ]
    },
    {
      "cell_type": "markdown",
      "source": [
        "## Push to Git Hub"
      ],
      "metadata": {
        "id": "3wGhqsYBZJcO"
      }
    },
    {
      "cell_type": "code",
      "source": [
        "# Configuring Git and GitHub in Colab\n",
        "!git config --global user.email \"ochieng40denis@gmail.com\"\n",
        "!git config --global user.name \"Ochieng40\"\n"
      ],
      "metadata": {
        "id": "4Dsju3ydfPbU"
      },
      "execution_count": 21,
      "outputs": []
    },
    {
      "cell_type": "code",
      "source": [
        "# Cloning the Repository\n",
        "!git clone https://github.com/Ochieng40/Britam.git\n"
      ],
      "metadata": {
        "colab": {
          "base_uri": "https://localhost:8080/"
        },
        "id": "R63OX5G8fYEd",
        "outputId": "2a9eec2f-88d7-4776-e486-dc5129edf8bd"
      },
      "execution_count": 99,
      "outputs": [
        {
          "output_type": "stream",
          "name": "stdout",
          "text": [
            "Cloning into 'Britam'...\n",
            "remote: Enumerating objects: 3, done.\u001b[K\n",
            "remote: Counting objects: 100% (3/3), done.\u001b[K\n",
            "remote: Total 3 (delta 0), reused 0 (delta 0), pack-reused 0 (from 0)\u001b[K\n",
            "Receiving objects: 100% (3/3), done.\n"
          ]
        }
      ]
    },
    {
      "cell_type": "code",
      "source": [
        "!ls \"/content/drive/My Drive\"\n"
      ],
      "metadata": {
        "colab": {
          "base_uri": "https://localhost:8080/"
        },
        "id": "wqxS7205jhOm",
        "outputId": "b60ec23a-6384-4684-8a2b-ac4b4e32021f"
      },
      "execution_count": 103,
      "outputs": [
        {
          "output_type": "stream",
          "name": "stdout",
          "text": [
            "'Attendance sheet-2023.gdoc'\n",
            " CHV_Data_Quailty_Check.gsheet\n",
            "'C_Mombasa Quality Assessment Data Collection Training .pptx'\n",
            "'Colab Notebooks'\n",
            "'Copy of HCW_Enrollments_20231122.gsheet'\n",
            "'Copy of Presentation_ Setting of SMART KPIs_ 20240707.gslides'\n",
            "'Copy of  Programs_Health Care worker  facilitated transition_20231117.gsheet'\n",
            " data_for_use.gsheet\n",
            " Data_Retrieval.R\n",
            "'Dec 7, 2023 | DHIS Data.gdoc'\n",
            "'Denis Ochieng_Project_Plan.xlsx'\n",
            "\"Denis Ochieng's Promotion Justification_20240522.gdoc\"\n",
            "\"Denis'_Work_Tracker_2024.gsheet\"\n",
            "'DnA_Individual KPIs_2024_Denis_2.gsheet'\n",
            "'DnA_Individual KPIs_2024_Denis.gsheet'\n",
            " engagement_calcs.gsheet\n",
            " General_Files\n",
            " Indicator_Unique_Codes.R\n",
            "'Jun 11, 2024 | Financial Data Check in.gdoc'\n",
            " KHIS_Retrieval.Rproj\n",
            " Kisii_Data_Collection_Prep.gdoc\n",
            "'Kisii Dissemination Attendance List .pdf'\n",
            "'Makueni RBF Priority Facilities_20240516.gsheet'\n",
            "'Mar 14, 2024 | FQAs check-in.gdoc'\n",
            " Master_List_Facilities_Ochieng.gsheet\n",
            "'May 2, 2024 | FQAs check-in.gdoc'\n",
            "'May 28, 2024 | DnA Team Catch Up_Minutes.gdoc'\n",
            "'Meeting Agenda_Anneka_2024_01_24:.gdoc'\n",
            "'Meeting Agenda_Anneka_2024_02_28:.gdoc'\n",
            " Mental_Health_Chatbot\n",
            "'Mombasa Quality Assessment Data Collection Training .pptx'\n",
            " Notes_Data_Alignment.gdoc\n",
            " outcome_Analysis_Data.gsheet\n",
            " pandas_df_to_redshift.cpython-310.pyc\n",
            " Passwords.gdoc\n",
            " path\n",
            " powerbi-users.gsheet\n",
            " Projects\n",
            " Prompts_Coordinator_Application\n"
          ]
        }
      ]
    },
    {
      "cell_type": "code",
      "source": [
        "!ls \"/content/drive/My Drive/My Folder\"\n"
      ],
      "metadata": {
        "colab": {
          "base_uri": "https://localhost:8080/"
        },
        "id": "afhRLWLzjq6y",
        "outputId": "7880bda2-269b-47bd-a513-9091ea39c34d"
      },
      "execution_count": 104,
      "outputs": [
        {
          "output_type": "stream",
          "name": "stdout",
          "text": [
            "ls: cannot access '/content/drive/My Drive/My Folder': No such file or directory\n"
          ]
        }
      ]
    },
    {
      "cell_type": "code",
      "source": [
        "py_file_location = \"/content/gdrive/Shareddrives/B. Jacaranda Health (Unrestricted Files)/B - Programs /RD&E/Data & Analytics/3. DnA Projects/Data Processes Cleanup 2024/Data Audit\""
      ],
      "metadata": {
        "id": "hI0Z-xMZiz0g"
      },
      "execution_count": null,
      "outputs": []
    }
  ]
}